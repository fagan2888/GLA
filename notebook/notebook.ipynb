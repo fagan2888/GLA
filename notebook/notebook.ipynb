{
 "cells": [
  {
   "cell_type": "markdown",
   "metadata": {},
   "source": [
    "# Analysis of London spendings with python\n",
    "\n",
    "In this post I want to discuss how you can use python to fetch data from the internet, \n",
    "put them in a readable format and gain some interesting insights.\n",
    "\n",
    "This exercise is motivated by [\"Using SQL for Lightweight Data Analysis\"](http://schoolofdata.org/2013/03/26/using-sql-for-lightweight-data-analysis/) by Rufus Pollock. Here, I extend Rufus' analysis to a larger dataset and I use different analysis tools.\n",
    "\n",
    "## The data\n",
    "\n",
    "The data come from the [\"London GLA spending\"](https://www.london.gov.uk/about-us/greater-london-authority-gla/spending-money-wisely/our-spending) website, where GLA stands for Greater London Authority. Every month GLA publishes their spendings on Housing Services, Developing, Communities & Intelligence, etc. While writing, the GLA webpage contains 38 csv files with inhomogeneous formatting. There are empty columns and irregularly spaced data. To complicate things, the GLA website keeps changing root address and html design. So, I do not guarantee that the code described below will work in 2 years from now.\n",
    "\n",
    "The webpage looks like this:\n",
    "\n",
    "<img src=\"https://raw.githubusercontent.com/vincepota/GLA/master/notebook/web_screenshot.png\" width=\"600\">\n",
    "\n",
    "where we are interested in the content of the `CSV file` column. \n",
    "\n",
    "The strategy is straightforward: \n",
    "- scrap the html code of the GLA webpage;\n",
    "- extract the links to the `.csv` files;\n",
    "- download all the data and append the results to a `pandas` dataframe;\n",
    "- Clean the data\n",
    "- Have some fun with the data"
   ]
  },
  {
   "cell_type": "markdown",
   "metadata": {},
   "source": [
    "## The code\n",
    "\n",
    "Let's import some libraries, where the most important is `BeautifulSoup` which allows to handle the html code hiding behind web pages. If you do not have `BeautifulSoup` installed, you can get it via `pip install BeautifulSoup`."
   ]
  },
  {
   "cell_type": "code",
   "execution_count": 1,
   "metadata": {
    "collapsed": true
   },
   "outputs": [],
   "source": [
    "import pandas as pd\n",
    "from bs4 import BeautifulSoup\n",
    "import urllib2\n",
    "import matplotlib.pylab as plt\n",
    "import re\n",
    "import numpy as np\n",
    "from __future__ import print_function"
   ]
  },
  {
   "cell_type": "markdown",
   "metadata": {},
   "source": [
    "Let's extract the `html` code from the GLA webpage:"
   ]
  },
  {
   "cell_type": "code",
   "execution_count": 2,
   "metadata": {
    "collapsed": true
   },
   "outputs": [],
   "source": [
    "wpage= 'https://www.london.gov.uk/about-us/greater-london-authority-gla/spending-money-wisely/our-spending'\n",
    "\n",
    "req = urllib2.Request(wpage)\n",
    "page = urllib2.urlopen(req)\n",
    "soup = BeautifulSoup(page, 'html5lib')"
   ]
  },
  {
   "cell_type": "markdown",
   "metadata": {},
   "source": [
    "The `csv` files that we need are contained in `<td>` tags, which are nested inside `<table>` tags.\n",
    "Some `<td>` tags contain the direct link to the `csv` file, while other `<td>` tags contain a *link* to another webpage which contains the `csv` file. It is rather confusing, but it can be implemented very easily with python:"
   ]
  },
  {
   "cell_type": "code",
   "execution_count": 3,
   "metadata": {
    "collapsed": true
   },
   "outputs": [],
   "source": [
    "table = soup.find_all('table')     # Find all <table> tags\n",
    "thelist = []                       \n",
    "\n",
    "for t in table:\n",
    "    if len(t.find_all('th')) > 0:  # Only select tables with csv files\n",
    "        for a in t.find_all('a', href=True):   # Find all hyperlinks in the table\n",
    "            thelink = 'https:' + a['href']     \n",
    "            if len(thelink) < 40:        # If True, thelink is a link to another webpage\n",
    "                                         # containing the csv file\n",
    "                    \n",
    "               req = urllib2.Request(thelink)    # Scrap thelink wepage\n",
    "               page = urllib2.urlopen(req)\n",
    "               soup = BeautifulSoup(page, 'html5lib')\n",
    "\n",
    "               aa = soup.find_all(href = re.compile('.csv'))[0] # Extract the csv file\n",
    "               thelink = aa['href']\n",
    "               thelist.append(thelink)   \n",
    "            else:                        # If the link is a link to the csv file, append the\n",
    "               thelist.append(thelink)   # results straight away"
   ]
  },
  {
   "cell_type": "markdown",
   "metadata": {},
   "source": [
    "`thelist` is a list which contains all the direct links to the `csv` files. Note that we have not downloaded the data yet."
   ]
  },
  {
   "cell_type": "code",
   "execution_count": 4,
   "metadata": {
    "collapsed": false
   },
   "outputs": [
    {
     "name": "stdout",
     "output_type": "stream",
     "text": [
      "the list contains 38 csv files\n"
     ]
    },
    {
     "data": {
      "text/plain": [
       "[u'https://www.london.gov.uk/sites/default/files/mayors_250_report_-_2015-16_-_p12_-_combined.csv',\n",
       " u'https://www.london.gov.uk/sites/default/files/mayors_250_report_-_2015-16_-_p11_-_combined_fn.csv',\n",
       " u'https://www.london.gov.uk/sites/default/files/mayors_250_report_-_2015-16_-_p10_-_combined.csv',\n",
       " u'https://www.london.gov.uk/sites/default/files/mayors_250_report_-_2015-16_-_p09_-_combined.csv',\n",
       " u'https://www.london.gov.uk/sites/default/files/copy_of_mayors_250_report_-_2015-16_-_p08_-.csv']"
      ]
     },
     "execution_count": 4,
     "metadata": {},
     "output_type": "execute_result"
    }
   ],
   "source": [
    "print('the list contains', len(thelist), 'csv files')\n",
    "thelist[0:5]"
   ]
  },
  {
   "cell_type": "markdown",
   "metadata": {},
   "source": [
    "We can now download the data. Instead of downloading every `csv` files to disk, one can use `pandas` ability to read `csv` files straight from the internet. \n",
    "Before we do that, let's see how the head of a `csv` file looks like in excel:\n",
    "![excel](https://raw.githubusercontent.com/vincepota/GLA/master/notebook/excel.png)"
   ]
  },
  {
   "cell_type": "markdown",
   "metadata": {},
   "source": [
    "We want to discard the information stored in the first few lines. The actual data start from where columns names are: `Vendor ID`, `Vendor Name`, `Cost Element`, etc..\n",
    "\n",
    "The following lines of code loop through the `csv` files stored in `thelist`, discard the data in the file head, and append the results to the the dataframe `df`:"
   ]
  },
  {
   "cell_type": "code",
   "execution_count": 5,
   "metadata": {
    "collapsed": false
   },
   "outputs": [
    {
     "name": "stdout",
     "output_type": "stream",
     "text": [
      "Running\n",
      "0  1  2  3  4  5  6  7  8  9  10  11  12  13  14  15  16  17  18  19  20  21  22  23  24  25  26  27  28  29  30  31  32  33  34  35  36  37  Done\n"
     ]
    }
   ],
   "source": [
    "df = pd.DataFrame()\n",
    "print('Running')\n",
    "for i, thefile in enumerate(thelist):\n",
    "     print(i, end=\"  \"),\n",
    "     tmp = pd.read_csv(thefile, header=None) \n",
    "\n",
    "     # Drop rows with all missing values\n",
    "     tmp.dropna(inplace=True, how='all',axis=1, thresh=10)\n",
    "    \n",
    "     # Find the row with the column names     \n",
    "     ix = np.where(tmp.values == 'Vendor ID')[0][0]\n",
    "     column_names = tmp.loc[ix]\n",
    "     \n",
    "     # Remove summary from file header\n",
    "     tmp = tmp[(ix + 1) :]\n",
    "     tmp.columns = column_names\n",
    "     \n",
    "     # Drop columns with all missing values\n",
    "     tmp.dropna(inplace=True, how='all', axis=0)\n",
    "     tmp.dropna(inplace=True, axis = 0)\n",
    "     \n",
    "     # Append results to dataframe\n",
    "     df = df.append(tmp, ignore_index = True)\n",
    "print('Done')"
   ]
  },
  {
   "cell_type": "markdown",
   "metadata": {
    "collapsed": true
   },
   "source": [
    "Here is how the data look like:"
   ]
  },
  {
   "cell_type": "code",
   "execution_count": 10,
   "metadata": {
    "collapsed": false,
    "scrolled": true
   },
   "outputs": [
    {
     "name": "stdout",
     "output_type": "stream",
     "text": [
      "The datafarme has  29138 rows\n"
     ]
    },
    {
     "data": {
      "text/html": [
       "<div>\n",
       "<table border=\"1\" class=\"dataframe\">\n",
       "  <thead>\n",
       "    <tr style=\"text-align: right;\">\n",
       "      <th></th>\n",
       "      <th>Amount</th>\n",
       "      <th>Clearing Date</th>\n",
       "      <th>Cost Element</th>\n",
       "      <th>Directorate</th>\n",
       "      <th>Document No</th>\n",
       "      <th>Expenditure Account Code Description</th>\n",
       "      <th>Service Expenditure Analysis</th>\n",
       "      <th>Vendor ID</th>\n",
       "      <th>Vendor Name</th>\n",
       "    </tr>\n",
       "  </thead>\n",
       "  <tbody>\n",
       "    <tr>\n",
       "      <th>0</th>\n",
       "      <td>66253087.0</td>\n",
       "      <td>2016-02-24</td>\n",
       "      <td>544071</td>\n",
       "      <td>RESOURCES</td>\n",
       "      <td>CHAPS649</td>\n",
       "      <td>FUNCTIONAL BODY GRANT PAYMENT</td>\n",
       "      <td>Highways and transport services</td>\n",
       "      <td>10016524</td>\n",
       "      <td>TRANSPORT FOR LONDON</td>\n",
       "    </tr>\n",
       "    <tr>\n",
       "      <th>1</th>\n",
       "      <td>20945312.0</td>\n",
       "      <td>2016-02-15</td>\n",
       "      <td>544093</td>\n",
       "      <td>RESOURCES</td>\n",
       "      <td>CHAPS627</td>\n",
       "      <td>NLE - GRANT PMT TO TFL</td>\n",
       "      <td>Highways and transport services</td>\n",
       "      <td>10016524</td>\n",
       "      <td>TRANSPORT FOR LONDON</td>\n",
       "    </tr>\n",
       "    <tr>\n",
       "      <th>2</th>\n",
       "      <td>17926156.0</td>\n",
       "      <td>2016-02-22</td>\n",
       "      <td>544073</td>\n",
       "      <td>RESOURCES</td>\n",
       "      <td>CHAPS643</td>\n",
       "      <td>BUSINESS RATE RETENTION-CLG</td>\n",
       "      <td>Highways and transport services</td>\n",
       "      <td>NC</td>\n",
       "      <td>DCLG</td>\n",
       "    </tr>\n",
       "  </tbody>\n",
       "</table>\n",
       "</div>"
      ],
      "text/plain": [
       "       Amount Clearing Date Cost Element Directorate Document No  \\\n",
       "0  66253087.0    2016-02-24       544071   RESOURCES    CHAPS649   \n",
       "1  20945312.0    2016-02-15       544093   RESOURCES    CHAPS627   \n",
       "2  17926156.0    2016-02-22       544073   RESOURCES    CHAPS643   \n",
       "\n",
       "  Expenditure Account Code Description     Service Expenditure Analysis  \\\n",
       "0        FUNCTIONAL BODY GRANT PAYMENT  Highways and transport services   \n",
       "1               NLE - GRANT PMT TO TFL  Highways and transport services   \n",
       "2          BUSINESS RATE RETENTION-CLG  Highways and transport services   \n",
       "\n",
       "  Vendor ID           Vendor Name  \n",
       "0  10016524  TRANSPORT FOR LONDON  \n",
       "1  10016524  TRANSPORT FOR LONDON  \n",
       "2        NC                  DCLG  "
      ]
     },
     "execution_count": 10,
     "metadata": {},
     "output_type": "execute_result"
    }
   ],
   "source": [
    "print('The datafarme has ', len(df), 'rows')\n",
    "df.head(3)"
   ]
  },
  {
   "cell_type": "markdown",
   "metadata": {},
   "source": [
    "Some cleaning and feature engeneering is still required:"
   ]
  },
  {
   "cell_type": "code",
   "execution_count": 7,
   "metadata": {
    "collapsed": false
   },
   "outputs": [],
   "source": [
    "df = df[df.columns[2:]] # Remove the first two empty columns\n",
    "\n",
    "# Amount\n",
    "def clean_par(text):\n",
    "    if '(' in text:\n",
    "        output = ('-' + re.sub('[()]','',text))\n",
    "    else:\n",
    "        output = text\n",
    "    return output\n",
    "\n",
    "df['Amount'] = df['Amount'].map(lambda x: clean_par(x)) # transform '(123)' -> -123 \n",
    "df['Amount'] = df['Amount'].map(lambda x: x.replace(',','')).astype(float) # Remove ',' \n",
    "\n",
    "# Clearing Date\n",
    "df['Clearing Date'] = df['Clearing Date'].map(lambda x: pd.Timestamp(x)) # Transform to time series\n",
    "\n",
    "# Expenditure Account Code Description\n",
    "df['Expenditure Account Code Description'] = df['Expenditure Account Code Description'].map(lambda x: x.upper()) # Make upper case\n",
    "\n",
    "#Directorate\n",
    "mask = ~df['Directorate'].isnull() # consider only non-null values\n",
    "df.loc[mask,'Directorate'] = df.loc[mask,'Directorate'].map(lambda x: x.upper()) # Make upper case\n",
    "df.loc[mask,'Directorate'] = df.loc[mask,'Directorate'].map(lambda x: x.replace('&','AND'))\n",
    "df.loc[mask,'Directorate'] = df.loc[mask,'Directorate'].map(lambda x: x.rstrip()) # Strip white spaces"
   ]
  },
  {
   "cell_type": "code",
   "execution_count": 8,
   "metadata": {
    "collapsed": false
   },
   "outputs": [
    {
     "data": {
      "text/html": [
       "<div>\n",
       "<table border=\"1\" class=\"dataframe\">\n",
       "  <thead>\n",
       "    <tr style=\"text-align: right;\">\n",
       "      <th></th>\n",
       "      <th>Amount</th>\n",
       "      <th>Clearing Date</th>\n",
       "      <th>Cost Element</th>\n",
       "      <th>Directorate</th>\n",
       "      <th>Document No</th>\n",
       "      <th>Expenditure Account Code Description</th>\n",
       "      <th>Service Expenditure Analysis</th>\n",
       "      <th>Vendor ID</th>\n",
       "      <th>Vendor Name</th>\n",
       "    </tr>\n",
       "  </thead>\n",
       "  <tbody>\n",
       "    <tr>\n",
       "      <th>0</th>\n",
       "      <td>66253087.0</td>\n",
       "      <td>2016-02-24</td>\n",
       "      <td>544071</td>\n",
       "      <td>RESOURCES</td>\n",
       "      <td>CHAPS649</td>\n",
       "      <td>FUNCTIONAL BODY GRANT PAYMENT</td>\n",
       "      <td>Highways and transport services</td>\n",
       "      <td>10016524</td>\n",
       "      <td>TRANSPORT FOR LONDON</td>\n",
       "    </tr>\n",
       "    <tr>\n",
       "      <th>1</th>\n",
       "      <td>20945312.0</td>\n",
       "      <td>2016-02-15</td>\n",
       "      <td>544093</td>\n",
       "      <td>RESOURCES</td>\n",
       "      <td>CHAPS627</td>\n",
       "      <td>NLE - GRANT PMT TO TFL</td>\n",
       "      <td>Highways and transport services</td>\n",
       "      <td>10016524</td>\n",
       "      <td>TRANSPORT FOR LONDON</td>\n",
       "    </tr>\n",
       "    <tr>\n",
       "      <th>2</th>\n",
       "      <td>17926156.0</td>\n",
       "      <td>2016-02-22</td>\n",
       "      <td>544073</td>\n",
       "      <td>RESOURCES</td>\n",
       "      <td>CHAPS643</td>\n",
       "      <td>BUSINESS RATE RETENTION-CLG</td>\n",
       "      <td>Highways and transport services</td>\n",
       "      <td>NC</td>\n",
       "      <td>DCLG</td>\n",
       "    </tr>\n",
       "    <tr>\n",
       "      <th>3</th>\n",
       "      <td>7155497.0</td>\n",
       "      <td>2016-02-24</td>\n",
       "      <td>544075</td>\n",
       "      <td>HOUSING</td>\n",
       "      <td>5108675974</td>\n",
       "      <td>GRANTS TO EXTERNAL ORGANISATIONS</td>\n",
       "      <td>Capital</td>\n",
       "      <td>15500400</td>\n",
       "      <td>LONDON BOROUGH OF SOUTHWARK</td>\n",
       "    </tr>\n",
       "    <tr>\n",
       "      <th>4</th>\n",
       "      <td>3357407.0</td>\n",
       "      <td>2016-02-24</td>\n",
       "      <td>544075</td>\n",
       "      <td>HOUSING</td>\n",
       "      <td>5108678522</td>\n",
       "      <td>GRANTS TO EXTERNAL ORGANISATIONS</td>\n",
       "      <td>Capital</td>\n",
       "      <td>15500235</td>\n",
       "      <td>LONDON BOROUGH OF TOWER HAMLETS</td>\n",
       "    </tr>\n",
       "  </tbody>\n",
       "</table>\n",
       "</div>"
      ],
      "text/plain": [
       "       Amount Clearing Date Cost Element Directorate Document No  \\\n",
       "0  66253087.0    2016-02-24       544071   RESOURCES    CHAPS649   \n",
       "1  20945312.0    2016-02-15       544093   RESOURCES    CHAPS627   \n",
       "2  17926156.0    2016-02-22       544073   RESOURCES    CHAPS643   \n",
       "3   7155497.0    2016-02-24       544075     HOUSING  5108675974   \n",
       "4   3357407.0    2016-02-24       544075     HOUSING  5108678522   \n",
       "\n",
       "  Expenditure Account Code Description     Service Expenditure Analysis  \\\n",
       "0        FUNCTIONAL BODY GRANT PAYMENT  Highways and transport services   \n",
       "1               NLE - GRANT PMT TO TFL  Highways and transport services   \n",
       "2          BUSINESS RATE RETENTION-CLG  Highways and transport services   \n",
       "3     GRANTS TO EXTERNAL ORGANISATIONS                          Capital   \n",
       "4     GRANTS TO EXTERNAL ORGANISATIONS                          Capital   \n",
       "\n",
       "  Vendor ID                      Vendor Name  \n",
       "0  10016524             TRANSPORT FOR LONDON  \n",
       "1  10016524             TRANSPORT FOR LONDON  \n",
       "2        NC                             DCLG  \n",
       "3  15500400      LONDON BOROUGH OF SOUTHWARK  \n",
       "4  15500235  LONDON BOROUGH OF TOWER HAMLETS  "
      ]
     },
     "execution_count": 8,
     "metadata": {},
     "output_type": "execute_result"
    }
   ],
   "source": [
    "df.head()"
   ]
  },
  {
   "cell_type": "markdown",
   "metadata": {},
   "source": [
    "## Analysis"
   ]
  },
  {
   "cell_type": "code",
   "execution_count": null,
   "metadata": {
    "collapsed": true
   },
   "outputs": [],
   "source": []
  }
 ],
 "metadata": {
  "kernelspec": {
   "display_name": "Python 2",
   "language": "python",
   "name": "python2"
  },
  "language_info": {
   "codemirror_mode": {
    "name": "ipython",
    "version": 2
   },
   "file_extension": ".py",
   "mimetype": "text/x-python",
   "name": "python",
   "nbconvert_exporter": "python",
   "pygments_lexer": "ipython2",
   "version": "2.7.6"
  }
 },
 "nbformat": 4,
 "nbformat_minor": 0
}
