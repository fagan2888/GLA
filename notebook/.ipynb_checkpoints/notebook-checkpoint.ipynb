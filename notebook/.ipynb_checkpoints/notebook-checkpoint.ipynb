{
 "cells": [
  {
   "cell_type": "markdown",
   "metadata": {},
   "source": [
    "# Analysis of London spendings with python\n",
    "\n",
    "In this post I want to discuss how you can use python to fetch data from the internet, \n",
    "put them in a readable format and gain some interesting insights.\n",
    "\n",
    "This exercise is motivated by [\"Using SQL for Lightweight Data Analysis\"](http://schoolofdata.org/2013/03/26/using-sql-for-lightweight-data-analysis/) by Rufus Pollock. Here, I extend Rufus' analysis to a larger dataset and I use different analysis tools.\n",
    "\n",
    "## The data\n",
    "\n",
    "The data come from the [\"London GLA spending\"](https://www.london.gov.uk/about-us/greater-london-authority-gla/spending-money-wisely/our-spending) website, where GLA stands for Greater London Authority. Every month GLA publishes their spendings on Housing Services, Developing, Communities & Intelligence, etc. While writing, the GLA webpage contains 38 csv files with inhomogeneous formatting. There are empty columns and irregularly spaced data. To complicate things, the GLA website keeps changing root address and html design. So, I do not guarantee that the code described below will work in 2 years from now.\n",
    "\n",
    "The webpage looks like this:\n",
    "\n",
    "<img src=\"https://raw.githubusercontent.com/vincepota/GLA/master/notebook/web_screenshot.png\" width=\"600\">\n",
    "\n",
    "where we are interested in the content of the `CSV file` column. \n",
    "\n",
    "The strategy is straightforward: \n",
    "- scrap the html code of the GLA webpage;\n",
    "- extract the links to the `.csv` files;\n",
    "- download all the data and append the results to a `pandas` dataframe;\n",
    "- Clean the data\n",
    "- Have some fun with the data"
   ]
  },
  {
   "cell_type": "markdown",
   "metadata": {},
   "source": [
    "# The code\n",
    "\n",
    "We need some standard libraries like numpy and matplotlib, plus some less standard libraries with `BeautifulSoup` being the most important, because it allows to manipulate the html code hiding behind web pages. If you do not have `BeautifulSoup` installed, you can get it via `pip install BeautifulSoup`."
   ]
  },
  {
   "cell_type": "code",
   "execution_count": 1,
   "metadata": {
    "collapsed": true
   },
   "outputs": [],
   "source": [
    "import pandas as pd\n",
    "from bs4 import BeautifulSoup\n",
    "import urllib2\n",
    "import matplotlib.pylab as plt\n",
    "import re\n",
    "import numpy as np\n",
    "from __future__ import print_function\n",
    "%matplotlib inline"
   ]
  },
  {
   "cell_type": "markdown",
   "metadata": {},
   "source": [
    "The `html` code from the GLA webpage can be extracted with:"
   ]
  },
  {
   "cell_type": "code",
   "execution_count": 9,
   "metadata": {
    "collapsed": false
   },
   "outputs": [
    {
     "name": "stdout",
     "output_type": "stream",
     "text": [
      "Done\n"
     ]
    }
   ],
   "source": [
    "wpage= 'https://www.london.gov.uk/about-us/greater-london-authority-gla/spending-money-wisely/our-spending'\n",
    "\n",
    "req = urllib2.Request(wpage)\n",
    "page = urllib2.urlopen(req)\n",
    "soup = BeautifulSoup(page, 'html5lib')\n",
    "print('Done')"
   ]
  },
  {
   "cell_type": "markdown",
   "metadata": {},
   "source": [
    "The `csv` files that we need are contained in `<td>` tags, which are nested inside `<table>` tags.\n",
    "Some `<td>` tags contain the direct link to the `csv` file, while other `<td>` tags contain a *link* to another webpage which contains the `csv` file. It is rather confusing, but it can be implemented very easily with python:"
   ]
  },
  {
   "cell_type": "code",
   "execution_count": 10,
   "metadata": {
    "collapsed": false
   },
   "outputs": [
    {
     "name": "stdout",
     "output_type": "stream",
     "text": [
      "<a href=\"//www.london.gov.uk/sites/default/files/mayors_250_report_-_2015-16_-_p12_-_combined.csv\">Expenditure P12 CSV</a>\n",
      "<a href=\"//www.london.gov.uk/sites/default/files/mayors_250_report_-_2015-16_-_p11_-_combined_fn.csv\">Expenditure P11 CSV</a>\n",
      "<a href=\"//www.london.gov.uk/sites/default/files/mayors_250_report_-_2015-16_-_p10_-_combined.csv\">Expenditure P10 CSV</a>\n",
      "<a href=\"//www.london.gov.uk/sites/default/files/mayors_250_report_-_2015-16_-_p09_-_combined.csv\" style=\"line-height: 18.9091px;\">Expenditure P9 CSV</a>\n",
      "<a href=\"//www.london.gov.uk/sites/default/files/copy_of_mayors_250_report_-_2015-16_-_p08_-.csv\">Expenditure P8 CSV</a>\n",
      "<a href=\"//www.london.gov.uk/file/317855/download?token=0w-CMq9x\">Expenditure P7 CSV</a>\n",
      "<a href=\"//www.london.gov.uk/file/317854/download?token=d5EN1rOc\">Expenditure P6 CSV</a>\n",
      "<a href=\"//www.london.gov.uk/file/317853/download?token=ocOJ7TLs\">Expenditure P5 CSV</a>\n",
      "<a href=\"//www.london.gov.uk/sites/default/files/mayors_250_report_-_2015-16_-_p04.csv\" style=\"line-height: 20.8px;\">Expenditure P4 CSV</a>\n",
      "<a href=\"//www.london.gov.uk/sites/default/files/mayors_250_report_-_2015-16_-_p03.csv\">Expenditure P3 CSV</a>\n",
      "<a href=\"//www.london.gov.uk/file/2750\">Expenditure P2 CSV</a>\n",
      "<a href=\"//www.london.gov.uk/file/2749\">Expenditure P1 CSV</a>\n",
      "<a href=\"//www.london.gov.uk/file/2748\">Expenditure P13 CSV</a>\n",
      "<a href=\"//www.london.gov.uk/file/2747\">Expenditure P12 CSV</a>\n",
      "<a href=\"//www.london.gov.uk/file/2746\">Expenditure P11 CSV</a>\n",
      "<a href=\"//www.london.gov.uk/file/2744\">Expenditure P10 CSV</a>\n",
      "<a href=\"//www.london.gov.uk/file/2743\">Expenditure P9 CSV</a>\n",
      "<a href=\"//www.london.gov.uk/file/2742\">Expenditure P8 CSV</a>\n",
      "<a href=\"//www.london.gov.uk/file/2741\">Expenditure P7 CSV</a>\n",
      "<a href=\"//www.london.gov.uk/file/2740\">Expenditure P6 CSV</a>\n",
      "<a href=\"//www.london.gov.uk/file/2739\">Expenditure P5 CSV</a>\n",
      "<a href=\"//www.london.gov.uk/file/2738\">Expenditure P4 CSV</a>\n",
      "<a href=\"//www.london.gov.uk/file/2737\">Expenditure P3 CSV</a>\n",
      "<a href=\"//www.london.gov.uk/file/2736\">Expenditure P2 CSV</a>\n",
      "<a href=\"//www.london.gov.uk/file/2735\">Expenditure P1 CSV</a>\n",
      "<a href=\"//www.london.gov.uk/file/2734\">Expenditure P13 CSV</a>\n",
      "<a href=\"//www.london.gov.uk/file/2733\">Expenditure P12 CSV</a>\n",
      "<a href=\"//www.london.gov.uk/file/2732\">Expenditure P11 CSV</a>\n",
      "<a href=\"//www.london.gov.uk/file/2731\">Expenditure P10 CSV</a>\n",
      "<a href=\"//www.london.gov.uk/file/2729\">Expenditure P9 CSV</a>\n",
      "<a href=\"//www.london.gov.uk/file/2728\">Expenditure P8 CSV</a>\n",
      "<a href=\"//www.london.gov.uk/file/2727\">Expenditure P7 CSV</a>\n",
      "<a href=\"//www.london.gov.uk/file/2726\">Expenditure P6 CSV</a>\n",
      "<a href=\"//www.london.gov.uk/file/2724\">Expenditure P5 CSV</a>\n",
      "<a href=\"//www.london.gov.uk/file/2723\">Expenditure P4 CSV</a>\n",
      "<a href=\"//www.london.gov.uk/file/2722\">Expenditure P3 CSV</a>\n",
      "<a href=\"//www.london.gov.uk/file/2721\">Expenditure P2 CSV</a>\n",
      "<a href=\"//www.london.gov.uk/file/2715\">Expenditure P1 CSV</a>\n",
      "Done\n"
     ]
    }
   ],
   "source": [
    "table = soup.find_all('table')     # Find all <table> tags\n",
    "thelist = []                       \n",
    "\n",
    "for t in table:\n",
    "    if len(t.find_all('th')) > 0:  # Only select tables with csv files\n",
    "        for a in t.find_all('a', href=True):   # Find all hyperlinks in the table\n",
    "            print(a)\n",
    "            thelink = 'https:' + a['href']     \n",
    "            if len(thelink) < 40:        # If True, thelink is a link to another webpage\n",
    "                                         # containing the csv file\n",
    "               req = urllib2.Request(thelink)    # Scrap thelink wepage\n",
    "               page = urllib2.urlopen(req)\n",
    "               soup = BeautifulSoup(page, 'html5lib')\n",
    "\n",
    "               aa = soup.find_all(href = re.compile('.csv'))[0] # Extract the csv file\n",
    "               thelink = aa['href']\n",
    "               thelist.append(thelink)   \n",
    "            else:                        # If the link is a link to the csv file, append the\n",
    "               thelist.append(thelink)   # results straight away\n",
    "print('Done')"
   ]
  },
  {
   "cell_type": "markdown",
   "metadata": {},
   "source": [
    "`thelist` is a list which contains all the direct links to the `csv` files. Note that we have not downloaded the data yet."
   ]
  },
  {
   "cell_type": "code",
   "execution_count": 11,
   "metadata": {
    "collapsed": false
   },
   "outputs": [
    {
     "name": "stdout",
     "output_type": "stream",
     "text": [
      "the list contains 38 csv files\n"
     ]
    },
    {
     "data": {
      "text/plain": [
       "[u'https://www.london.gov.uk/sites/default/files/mayors_250_report_-_2015-16_-_p12_-_combined.csv',\n",
       " u'https://www.london.gov.uk/sites/default/files/mayors_250_report_-_2015-16_-_p11_-_combined_fn.csv',\n",
       " u'https://www.london.gov.uk/sites/default/files/mayors_250_report_-_2015-16_-_p10_-_combined.csv',\n",
       " u'https://www.london.gov.uk/sites/default/files/mayors_250_report_-_2015-16_-_p09_-_combined.csv',\n",
       " u'https://www.london.gov.uk/sites/default/files/copy_of_mayors_250_report_-_2015-16_-_p08_-.csv']"
      ]
     },
     "execution_count": 11,
     "metadata": {},
     "output_type": "execute_result"
    }
   ],
   "source": [
    "print('the list contains', len(thelist), 'csv files')\n",
    "thelist[0:5]"
   ]
  },
  {
   "cell_type": "markdown",
   "metadata": {},
   "source": [
    "We can now download the data. Instead of downloading every `csv` files to disk, one can use `pandas` ability to read `csv` files straight from the internet. \n",
    "Before we do that, let's see how the head of a `csv` file looks like in excel:\n",
    "![excel](https://raw.githubusercontent.com/vincepota/GLA/master/notebook/excel.png)"
   ]
  },
  {
   "cell_type": "markdown",
   "metadata": {},
   "source": [
    "We want to discard the information stored in the first few lines. The actual data start from where columns names are: `Vendor ID`, `Vendor Name`, `Cost Element`, etc..\n",
    "\n",
    "## Feature engineering  \n",
    "\n",
    "The following lines of code loop through the `csv` files stored in `thelist`, discard the data in the file head, and append the results to the the dataframe `df`:"
   ]
  },
  {
   "cell_type": "code",
   "execution_count": 16,
   "metadata": {
    "collapsed": false
   },
   "outputs": [
    {
     "name": "stdout",
     "output_type": "stream",
     "text": [
      "Running\n",
      "0  1  2  3  4  5  6  7  8  9  10  11  12  13  14  15  16  17  18  19  20  21  22  23  24  25  26  27  28  29  30  31  32  33  34  35  36  37  Done\n"
     ]
    }
   ],
   "source": [
    "df = pd.DataFrame()\n",
    "print('Running')\n",
    "for i, thefile in enumerate(thelist):\n",
    "     print(i, end=\"  \"),\n",
    "     tmp = pd.read_csv(thefile, header=None) \n",
    "\n",
    "     # Drop rows with all missing values\n",
    "     tmp.dropna(inplace=True, how='all',axis=1, thresh=10)\n",
    "    \n",
    "     # Find the row with the column names     \n",
    "     ix = np.where(tmp.values == 'Vendor ID')[0][0]\n",
    "     column_names = tmp.loc[ix]\n",
    "     \n",
    "     # Remove summary from file header\n",
    "     tmp = tmp[(ix + 1) :]\n",
    "     tmp.columns = column_names\n",
    "     \n",
    "     # Drop columns with all missing values\n",
    "     tmp.dropna(inplace=True, how='all', axis=0)\n",
    "     tmp.dropna(inplace=True, axis = 0)\n",
    "     \n",
    "     # Append results to dataframe\n",
    "     df = df.append(tmp, ignore_index = True)\n",
    "print('Done')"
   ]
  },
  {
   "cell_type": "markdown",
   "metadata": {
    "collapsed": true
   },
   "source": [
    "Here is how the data look like:"
   ]
  },
  {
   "cell_type": "code",
   "execution_count": 17,
   "metadata": {
    "collapsed": false,
    "scrolled": true
   },
   "outputs": [
    {
     "name": "stdout",
     "output_type": "stream",
     "text": [
      "The datafarme has  29138 rows\n"
     ]
    },
    {
     "data": {
      "text/html": [
       "<div>\n",
       "<table border=\"1\" class=\"dataframe\">\n",
       "  <thead>\n",
       "    <tr style=\"text-align: right;\">\n",
       "      <th></th>\n",
       "      <th>nan</th>\n",
       "      <th>nan</th>\n",
       "      <th>Amount</th>\n",
       "      <th>Clearing Date</th>\n",
       "      <th>Cost Element</th>\n",
       "      <th>Directorate</th>\n",
       "      <th>Document No</th>\n",
       "      <th>Expenditure Account Code Description</th>\n",
       "      <th>Service Expenditure Analysis</th>\n",
       "      <th>Vendor ID</th>\n",
       "      <th>Vendor Name</th>\n",
       "    </tr>\n",
       "  </thead>\n",
       "  <tbody>\n",
       "    <tr>\n",
       "      <th>0</th>\n",
       "      <td>NaN</td>\n",
       "      <td>NaN</td>\n",
       "      <td>66,253,087.00</td>\n",
       "      <td>24 Feb  2016</td>\n",
       "      <td>544071</td>\n",
       "      <td>RESOURCES</td>\n",
       "      <td>CHAPS649</td>\n",
       "      <td>FUNCTIONAL BODY GRANT PAYMENT</td>\n",
       "      <td>Highways and transport services</td>\n",
       "      <td>10016524</td>\n",
       "      <td>TRANSPORT FOR LONDON</td>\n",
       "    </tr>\n",
       "    <tr>\n",
       "      <th>1</th>\n",
       "      <td>NaN</td>\n",
       "      <td>NaN</td>\n",
       "      <td>20,945,312.00</td>\n",
       "      <td>15 Feb  2016</td>\n",
       "      <td>544093</td>\n",
       "      <td>RESOURCES</td>\n",
       "      <td>CHAPS627</td>\n",
       "      <td>NLE - GRANT PMT TO TFL</td>\n",
       "      <td>Highways and transport services</td>\n",
       "      <td>10016524</td>\n",
       "      <td>TRANSPORT FOR LONDON</td>\n",
       "    </tr>\n",
       "    <tr>\n",
       "      <th>2</th>\n",
       "      <td>NaN</td>\n",
       "      <td>NaN</td>\n",
       "      <td>17,926,156.00</td>\n",
       "      <td>22 Feb  2016</td>\n",
       "      <td>544073</td>\n",
       "      <td>RESOURCES</td>\n",
       "      <td>CHAPS643</td>\n",
       "      <td>BUSINESS RATE RETENTION-CLG</td>\n",
       "      <td>Highways and transport services</td>\n",
       "      <td>NC</td>\n",
       "      <td>DCLG</td>\n",
       "    </tr>\n",
       "  </tbody>\n",
       "</table>\n",
       "</div>"
      ],
      "text/plain": [
       "   NaN  NaN         Amount Clearing Date Cost Element Directorate Document No  \\\n",
       "0  NaN  NaN  66,253,087.00  24 Feb  2016       544071   RESOURCES    CHAPS649   \n",
       "1  NaN  NaN  20,945,312.00  15 Feb  2016       544093   RESOURCES    CHAPS627   \n",
       "2  NaN  NaN  17,926,156.00  22 Feb  2016       544073   RESOURCES    CHAPS643   \n",
       "\n",
       "  Expenditure Account Code Description     Service Expenditure Analysis  \\\n",
       "0        FUNCTIONAL BODY GRANT PAYMENT  Highways and transport services   \n",
       "1               NLE - GRANT PMT TO TFL  Highways and transport services   \n",
       "2          BUSINESS RATE RETENTION-CLG  Highways and transport services   \n",
       "\n",
       "  Vendor ID           Vendor Name  \n",
       "0  10016524  TRANSPORT FOR LONDON  \n",
       "1  10016524  TRANSPORT FOR LONDON  \n",
       "2        NC                  DCLG  "
      ]
     },
     "execution_count": 17,
     "metadata": {},
     "output_type": "execute_result"
    }
   ],
   "source": [
    "print('The datafarme has ', len(df), 'rows')\n",
    "df.head(3)"
   ]
  },
  {
   "cell_type": "markdown",
   "metadata": {},
   "source": [
    "Note that there are still some missing column. The `Amount` column is actually a string that we need to transform to float. 'Clearing Date' is also a string, that we want to transform to `datetime` format. Some columns contain strings sometimes upper cases and sometimes lower cases, which is an issue when we will use the `groupby` function. It is a good idea to make all strings upper cases. Unfortunately, `Directorate` contains missing values for some rows and there is nothing we can do about it. Lastly, we can drop `Cost Element`, `Vendor ID` and `Document No` because irrelevant for our analysis:"
   ]
  },
  {
   "cell_type": "code",
   "execution_count": 18,
   "metadata": {
    "collapsed": false
   },
   "outputs": [],
   "source": [
    "df = df[df.columns[2:]] # Remove the first two empty columns\n",
    "\n",
    "# Amount\n",
    "def clean_par(text):\n",
    "    if '(' in text:\n",
    "        output = ('-' + re.sub('[()]','',text))\n",
    "    else:\n",
    "        output = text\n",
    "    return output\n",
    "\n",
    "df['Amount'] = df['Amount'].map(lambda x: clean_par(x)) # transform '(123)' -> -123 \n",
    "df['Amount'] = df['Amount'].map(lambda x: x.replace(',','')).astype(float) # Remove ',' \n",
    "\n",
    "# Transform to time series\n",
    "df['Clearing Date'] = df['Clearing Date'].map(lambda x: pd.Timestamp(x)) \n",
    "\n",
    "# Make upper case\n",
    "df['Expenditure Account Code Description'] = df['Expenditure Account Code Description'].map(lambda x: x.upper()) \n",
    "\n",
    "mask = ~df['Directorate'].isnull() # consider only non-null values\n",
    "df.loc[mask,'Directorate'] = df.loc[mask,'Directorate'].map(lambda x: x.upper()) # Make upper case\n",
    "df.loc[mask,'Directorate'] = df.loc[mask,'Directorate'].map(lambda x: x.replace('&','AND'))\n",
    "df.loc[mask,'Directorate'] = df.loc[mask,'Directorate'].map(lambda x: x.rstrip()) # Strip white spaces\n",
    "df.loc[mask,'Directorate'] = df.loc[mask,'Directorate'].map(lambda x: x.lstrip()) # Strip white spaces\n",
    "df.loc[mask,'Directorate'] = df.loc[mask,'Directorate'].map(lambda x: x.replace('COMMUNIITES AND INTELLIGENCE','COMMUNITIES AND INTELLIGENCE'))\n",
    "\n",
    "df.drop_duplicates(inplace=True) # Drop eventual duplicates\n",
    "df.drop(['Cost Element','Vendor ID','Document No'], axis=1, inplace=True)"
   ]
  },
  {
   "cell_type": "markdown",
   "metadata": {},
   "source": [
    "## Analysis"
   ]
  },
  {
   "cell_type": "markdown",
   "metadata": {
    "collapsed": true
   },
   "source": [
    "With a clean dataset we can finally gain some insights. We can plot expenditures as a function of time:"
   ]
  },
  {
   "cell_type": "code",
   "execution_count": 22,
   "metadata": {
    "collapsed": false
   },
   "outputs": [
    {
     "data": {
      "text/plain": [
       "<matplotlib.text.Text at 0x10b765fd0>"
      ]
     },
     "execution_count": 22,
     "metadata": {},
     "output_type": "execute_result"
    },
    {
     "data": {
      "image/png": "[encoded data removed]",
      "text/plain": [
       "<matplotlib.figure.Figure at 0x10a4037d0>"
      ]
     },
     "metadata": {},
     "output_type": "display_data"
    }
   ],
   "source": [
    "df.sort_values('Clearing Date').plot(x = 'Clearing Date', y = 'Amount',legend=None,\n",
    "    grid=True,lw=1.2, figsize=(10,6))\n",
    "plt.ylabel('Amount')"
   ]
  },
  {
   "cell_type": "markdown",
   "metadata": {},
   "source": [
    "which shows that expenditures boosted after August 2015. \n",
    "\n",
    "*The most expensive payments were all devoted to the Transport for London*"
   ]
  },
  {
   "cell_type": "code",
   "execution_count": 23,
   "metadata": {
    "collapsed": false
   },
   "outputs": [
    {
     "data": {
      "text/html": [
       "<div>\n",
       "<table border=\"1\" class=\"dataframe\">\n",
       "  <thead>\n",
       "    <tr style=\"text-align: right;\">\n",
       "      <th></th>\n",
       "      <th>Amount</th>\n",
       "      <th>Clearing Date</th>\n",
       "      <th>Directorate</th>\n",
       "      <th>Expenditure Account Code Description</th>\n",
       "      <th>Service Expenditure Analysis</th>\n",
       "      <th>Vendor Name</th>\n",
       "    </tr>\n",
       "  </thead>\n",
       "  <tbody>\n",
       "    <tr>\n",
       "      <th>5494</th>\n",
       "      <td>118379401.6</td>\n",
       "      <td>2015-09-17</td>\n",
       "      <td>RESOURCES</td>\n",
       "      <td>FUNCTIONAL BODY GRANT PAYMENT</td>\n",
       "      <td>Highways and transport services</td>\n",
       "      <td>TRANSPORT FOR LONDON</td>\n",
       "    </tr>\n",
       "    <tr>\n",
       "      <th>6394</th>\n",
       "      <td>82079402.0</td>\n",
       "      <td>2015-07-28</td>\n",
       "      <td>RESOURCES</td>\n",
       "      <td>FUNCTIONAL BODY GRANT PAYMENT</td>\n",
       "      <td>Highways and transport services</td>\n",
       "      <td>TRANSPORT FOR LONDON</td>\n",
       "    </tr>\n",
       "    <tr>\n",
       "      <th>843</th>\n",
       "      <td>71226538.0</td>\n",
       "      <td>2016-01-21</td>\n",
       "      <td>RESOURCES</td>\n",
       "      <td>FUNCTIONAL BODY GRANT PAYMENT</td>\n",
       "      <td>Highways and transport services</td>\n",
       "      <td>TRANSPORT FOR LONDON</td>\n",
       "    </tr>\n",
       "    <tr>\n",
       "      <th>0</th>\n",
       "      <td>66253087.0</td>\n",
       "      <td>2016-02-24</td>\n",
       "      <td>RESOURCES</td>\n",
       "      <td>FUNCTIONAL BODY GRANT PAYMENT</td>\n",
       "      <td>Highways and transport services</td>\n",
       "      <td>TRANSPORT FOR LONDON</td>\n",
       "    </tr>\n",
       "    <tr>\n",
       "      <th>844</th>\n",
       "      <td>45200000.0</td>\n",
       "      <td>2016-01-18</td>\n",
       "      <td>RESOURCES</td>\n",
       "      <td>FUNCTIONAL BODY GRANT PAYMENT</td>\n",
       "      <td>Highways and transport services</td>\n",
       "      <td>TRANSPORT FOR LONDON</td>\n",
       "    </tr>\n",
       "  </tbody>\n",
       "</table>\n",
       "</div>"
      ],
      "text/plain": [
       "           Amount Clearing Date Directorate  \\\n",
       "5494  118379401.6    2015-09-17   RESOURCES   \n",
       "6394   82079402.0    2015-07-28   RESOURCES   \n",
       "843    71226538.0    2016-01-21   RESOURCES   \n",
       "0      66253087.0    2016-02-24   RESOURCES   \n",
       "844    45200000.0    2016-01-18   RESOURCES   \n",
       "\n",
       "     Expenditure Account Code Description     Service Expenditure Analysis  \\\n",
       "5494        FUNCTIONAL BODY GRANT PAYMENT  Highways and transport services   \n",
       "6394        FUNCTIONAL BODY GRANT PAYMENT  Highways and transport services   \n",
       "843         FUNCTIONAL BODY GRANT PAYMENT  Highways and transport services   \n",
       "0           FUNCTIONAL BODY GRANT PAYMENT  Highways and transport services   \n",
       "844         FUNCTIONAL BODY GRANT PAYMENT  Highways and transport services   \n",
       "\n",
       "               Vendor Name  \n",
       "5494  TRANSPORT FOR LONDON  \n",
       "6394  TRANSPORT FOR LONDON  \n",
       "843   TRANSPORT FOR LONDON  \n",
       "0     TRANSPORT FOR LONDON  \n",
       "844   TRANSPORT FOR LONDON  "
      ]
     },
     "execution_count": 23,
     "metadata": {},
     "output_type": "execute_result"
    }
   ],
   "source": [
    "df.sort_values('Amount',ascending=False).drop_duplicates(subset='Amount').head(5)"
   ]
  },
  {
   "cell_type": "markdown",
   "metadata": {},
   "source": [
    "*Sorted total payments grouped by `Expenditure Account Code Description`  (top 5 rows only) * :"
   ]
  },
  {
   "cell_type": "code",
   "execution_count": 24,
   "metadata": {
    "collapsed": false
   },
   "outputs": [
    {
     "data": {
      "text/html": [
       "<div>\n",
       "<table border=\"1\" class=\"dataframe\">\n",
       "  <thead>\n",
       "    <tr style=\"text-align: right;\">\n",
       "      <th></th>\n",
       "      <th>Amount</th>\n",
       "    </tr>\n",
       "    <tr>\n",
       "      <th>Expenditure Account Code Description</th>\n",
       "      <th></th>\n",
       "    </tr>\n",
       "  </thead>\n",
       "  <tbody>\n",
       "    <tr>\n",
       "      <th>FUNCTIONAL BODY GRANT PAYMENT</th>\n",
       "      <td>8.860160e+08</td>\n",
       "    </tr>\n",
       "    <tr>\n",
       "      <th>GRANTS TO EXTERNAL ORGANISATIONS</th>\n",
       "      <td>8.219761e+08</td>\n",
       "    </tr>\n",
       "    <tr>\n",
       "      <th>HSG GRANTS TO REGISTERED PROVIDERS</th>\n",
       "      <td>6.410579e+08</td>\n",
       "    </tr>\n",
       "    <tr>\n",
       "      <th>HSG GRANTS TO LOCAL AUTHORITIES</th>\n",
       "      <td>6.048305e+07</td>\n",
       "    </tr>\n",
       "    <tr>\n",
       "      <th>CLAIM SETTLEMENTS</th>\n",
       "      <td>5.064087e+07</td>\n",
       "    </tr>\n",
       "  </tbody>\n",
       "</table>\n",
       "</div>"
      ],
      "text/plain": [
       "                                            Amount\n",
       "Expenditure Account Code Description              \n",
       "FUNCTIONAL BODY GRANT PAYMENT         8.860160e+08\n",
       "GRANTS TO EXTERNAL ORGANISATIONS      8.219761e+08\n",
       "HSG GRANTS TO REGISTERED PROVIDERS    6.410579e+08\n",
       "HSG GRANTS TO LOCAL AUTHORITIES       6.048305e+07\n",
       "CLAIM SETTLEMENTS                     5.064087e+07"
      ]
     },
     "execution_count": 24,
     "metadata": {},
     "output_type": "execute_result"
    }
   ],
   "source": [
    "grouped = df.groupby('Expenditure Account Code Description')\n",
    "grouped.sum().sort_values('Amount',ascending=False).head(5)"
   ]
  },
  {
   "cell_type": "markdown",
   "metadata": {},
   "source": [
    "*Sorted total payments grouped by `Vendor Name` (top 5 rows only)*"
   ]
  },
  {
   "cell_type": "code",
   "execution_count": 25,
   "metadata": {
    "collapsed": false
   },
   "outputs": [
    {
     "data": {
      "text/html": [
       "<div>\n",
       "<table border=\"1\" class=\"dataframe\">\n",
       "  <thead>\n",
       "    <tr style=\"text-align: right;\">\n",
       "      <th></th>\n",
       "      <th>Amount</th>\n",
       "    </tr>\n",
       "    <tr>\n",
       "      <th>Vendor Name</th>\n",
       "      <th></th>\n",
       "    </tr>\n",
       "  </thead>\n",
       "  <tbody>\n",
       "    <tr>\n",
       "      <th>TRANSPORT FOR LONDON</th>\n",
       "      <td>9.215039e+08</td>\n",
       "    </tr>\n",
       "    <tr>\n",
       "      <th>LONDON BOROUGH OF LAMBETH</th>\n",
       "      <td>1.110529e+08</td>\n",
       "    </tr>\n",
       "    <tr>\n",
       "      <th>LONDON BOROUGH OF SOUTHWARK</th>\n",
       "      <td>8.799278e+07</td>\n",
       "    </tr>\n",
       "    <tr>\n",
       "      <th>LONDON AND QUADRANT HOUSING TRUST</th>\n",
       "      <td>8.457841e+07</td>\n",
       "    </tr>\n",
       "    <tr>\n",
       "      <th>LONDON BOROUGH OF LEWISHAM</th>\n",
       "      <td>6.649843e+07</td>\n",
       "    </tr>\n",
       "  </tbody>\n",
       "</table>\n",
       "</div>"
      ],
      "text/plain": [
       "                                         Amount\n",
       "Vendor Name                                    \n",
       "TRANSPORT FOR LONDON               9.215039e+08\n",
       "LONDON BOROUGH OF LAMBETH          1.110529e+08\n",
       "LONDON BOROUGH OF SOUTHWARK        8.799278e+07\n",
       "LONDON AND QUADRANT HOUSING TRUST  8.457841e+07\n",
       "LONDON BOROUGH OF LEWISHAM         6.649843e+07"
      ]
     },
     "execution_count": 25,
     "metadata": {},
     "output_type": "execute_result"
    }
   ],
   "source": [
    "grouped = df.groupby('Vendor Name')\n",
    "grouped.sum().sort_values('Amount',ascending=False).head(5)"
   ]
  },
  {
   "cell_type": "markdown",
   "metadata": {},
   "source": [
    "*Pie chart of total expenditure grouped by `Directorate` (only top 5 shown) *\n",
    "\n"
   ]
  },
  {
   "cell_type": "code",
   "execution_count": 26,
   "metadata": {
    "collapsed": false
   },
   "outputs": [
    {
     "data": {
      "text/plain": [
       "<matplotlib.text.Text at 0x10b559a50>"
      ]
     },
     "execution_count": 26,
     "metadata": {},
     "output_type": "execute_result"
    },
    {
     "data": {
      "image/png": "[encoded data removed]",
      "text/plain": [
       "<matplotlib.figure.Figure at 0x10d371bd0>"
      ]
     },
     "metadata": {},
     "output_type": "display_data"
    }
   ],
   "source": [
    "# Filter out rows with missing 'Directorate' and group the result\n",
    "grouped = df[~df['Directorate'].isnull()].groupby('Directorate')\n",
    "\n",
    "total = grouped.sum().sort_values('Amount',ascending=False) # Sort by 'amount'\n",
    "\n",
    "# Reformat the 'Amount' column\n",
    "float_formatter = lambda x: \"%.2f\" % x\n",
    "format_amount = (total.Amount.values/10**6)\n",
    "format_amount = [ \"{:0.3f}\".format(x) for x in format_amount ]\n",
    "labels = total.index.values + ' ( ' + format_amount + ' m' + u'\\u00A3)'\n",
    "\n",
    "# Show only first 5 labels\n",
    "labels[5:] = ''\n",
    "\n",
    "cmap = plt.cm.jet\n",
    "colors = cmap(np.linspace(0., 2., len(total)))\n",
    "explode = tuple(np.linspace(0,0.8,len(total)))\n",
    "\n",
    "plt.figure(figsize=(7,7))\n",
    "patches, texts = plt.pie(total['Amount'], radius=0.9, startangle=0,\n",
    "                         colors=colors, explode=explode, labels=labels)\n",
    "_ = [texts[i] for i in range(0,len(total))]\n",
    "\n",
    "plt.title('GLA Total Spendings (2013-2016)', x=1.3,y=0.8, fontsize=15)"
   ]
  },
  {
   "cell_type": "markdown",
   "metadata": {},
   "source": [
    "*Amount spent for each directorate grouped by `year`. Note the log scale on the x-axis* "
   ]
  },
  {
   "cell_type": "code",
   "execution_count": 27,
   "metadata": {
    "collapsed": false
   },
   "outputs": [
    {
     "data": {
      "text/plain": [
       "<matplotlib.text.Text at 0x10b554250>"
      ]
     },
     "execution_count": 27,
     "metadata": {},
     "output_type": "execute_result"
    },
    {
     "data": {
      "image/png": "[encoded data removed]",
      "text/plain": [
       "<matplotlib.figure.Figure at 0x10be98b90>"
      ]
     },
     "metadata": {},
     "output_type": "display_data"
    }
   ],
   "source": [
    "df['year'] = map(lambda x: x.year, df['Clearing Date'])\n",
    "grouped = df.groupby(['Directorate','year']).agg({'Amount':sum})\n",
    "df2 = grouped.unstack()\n",
    "df2.plot.barh(logx=True,figsize=(7, 7), stacked=False, legend=False)\n",
    "\n",
    "labels = df2.columns.get_level_values(1).values\n",
    "plt.legend(title='YEAR', loc=9, bbox_to_anchor=(1.2,1), labels=labels)\n",
    "\n",
    "plt.xlabel(u'log (Amount) in \\u00A3  ')"
   ]
  },
  {
   "cell_type": "markdown",
   "metadata": {},
   "source": [
    "I do not know if `DEVELOPMENT and ENVIRONMENT` is the same as 'DEVELOPMENT, ENTERPRISE and ENVIRONMENT', or if 'HOUSING AND REGENERATION' is a different name for 'HOUSING AND LAND'. If so, their total 'Amount' should be summed together. \n",
    "While writing, we are only half way through 2016, which explains why the expenditure in 2016 is generally less than expenditure in 2015. "
   ]
  },
  {
   "cell_type": "markdown",
   "metadata": {},
   "source": [
    "# Wrapping up"
   ]
  },
  {
   "cell_type": "markdown",
   "metadata": {},
   "source": [
    "`BeautifulSoup` is a simple and powerful python library to extract information from web pages (`html` and `xml` files). I have shown how to use `BeautifulSoup` to extract `.csv` files from the Greater London Authority web page and read their content using `pandas`, which is by far the best library for data analysis with python. GLA spent almost 1 billion of pounds for Transport for London from April 2013 to March 2016, followed by housing services and boroughs. However, about 40% of GLA budget goes to housing-related services.\n",
    "\n",
    "*This post was written in a jupyter notebook and then imported to wordpress following the steps given by ########## . You can find the original notebook here.*"
   ]
  }
 ],
 "metadata": {
  "celltoolbar": "Raw Cell Format",
  "kernelspec": {
   "display_name": "Python 2",
   "language": "python",
   "name": "python2"
  },
  "language_info": {
   "codemirror_mode": {
    "name": "ipython",
    "version": 2
   },
   "file_extension": ".py",
   "mimetype": "text/x-python",
   "name": "python",
   "nbconvert_exporter": "python",
   "pygments_lexer": "ipython2",
   "version": "2.7.6"
  }
 },
 "nbformat": 4,
 "nbformat_minor": 0
}
